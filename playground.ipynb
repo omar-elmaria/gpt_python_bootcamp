{
 "cells": [
  {
   "cell_type": "code",
   "execution_count": 1,
   "metadata": {},
   "outputs": [],
   "source": [
    "import pandas as pd\n",
    "import numpy as np\n",
    "import matplotlib.pyplot as plt"
   ]
  },
  {
   "cell_type": "markdown",
   "metadata": {},
   "source": [
    "### For loop"
   ]
  },
  {
   "cell_type": "code",
   "execution_count": 2,
   "metadata": {},
   "outputs": [
    {
     "name": "stdout",
     "output_type": "stream",
     "text": [
      "idx: 0 value: Omar\n",
      "idx: 1 value: Martin\n",
      "idx: 2 value: Roni\n",
      "idx: 3 value: Jacky\n",
      "idx: 4 value: Louis\n"
     ]
    }
   ],
   "source": [
    "## For loop\n",
    "for idx, i in enumerate([\"Omar\", \"Martin\", \"Roni\", \"Jacky\", \"Louis\"]):\n",
    "    print(f\"idx: {idx}\", f\"value: {i}\")"
   ]
  },
  {
   "cell_type": "markdown",
   "metadata": {},
   "source": [
    "### While loop"
   ]
  },
  {
   "cell_type": "code",
   "execution_count": 4,
   "metadata": {},
   "outputs": [
    {
     "name": "stdout",
     "output_type": "stream",
     "text": [
      "1\n",
      "2\n",
      "3\n",
      "4\n",
      "5\n",
      "Finished loop\n"
     ]
    }
   ],
   "source": [
    "## While loop\n",
    "counter = 1\n",
    "while counter <= 5:\n",
    "    print(counter)\n",
    "    counter += 1 # Increment counter by 1\n",
    "    if counter > 5:\n",
    "        print(\"Finished loop\")\n",
    "        break"
   ]
  },
  {
   "cell_type": "markdown",
   "metadata": {},
   "source": [
    "### For loop example"
   ]
  },
  {
   "cell_type": "code",
   "execution_count": 32,
   "metadata": {},
   "outputs": [
    {
     "data": {
      "image/png": "[encoded data removed]",
      "text/plain": [
       "<Figure size 150x150 with 1 Axes>"
      ]
     },
     "metadata": {},
     "output_type": "display_data"
    },
    {
     "data": {
      "image/png": "[encoded data removed]",
      "text/plain": [
       "<Figure size 150x150 with 1 Axes>"
      ]
     },
     "metadata": {},
     "output_type": "display_data"
    },
    {
     "data": {
      "image/png": "[encoded data removed]",
      "text/plain": [
       "<Figure size 150x150 with 1 Axes>"
      ]
     },
     "metadata": {},
     "output_type": "display_data"
    }
   ],
   "source": [
    "## For loop\n",
    "df = pd.DataFrame(\n",
    "    data={\n",
    "        \"x\": np.arange(0, 100, 1),\n",
    "        \"y\": np.arange(0, 100, 1) ** 2,\n",
    "        \"category\": np.random.choice([\"A\", \"B\", \"C\"], 100),\n",
    "    }\n",
    ")\n",
    "# Add a color\n",
    "df[\"color\"] = df[\"category\"].map({\"A\": \"red\", \"B\": \"blue\", \"C\": \"green\"})\n",
    "\n",
    "for i in df[\"category\"].unique():\n",
    "    df_iter = df[df[\"category\"] == i]\n",
    "    plt.figure(figsize=(1.5, 1.5))\n",
    "    plt.plot(df_iter[\"x\"], df_iter[\"y\"], color=df_iter[\"color\"].iloc[0])\n",
    "    plt.show()"
   ]
  },
  {
   "cell_type": "markdown",
   "metadata": {},
   "source": [
    "### While loop example"
   ]
  },
  {
   "cell_type": "code",
   "execution_count": null,
   "metadata": {},
   "outputs": [],
   "source": [
    "## While loop\n",
    "import os\n",
    "import requests\n",
    "import time\n",
    "\n",
    "# Set up the headers and URL of the company data iScraper API endpoint. The payload will be variable depending on the person being scraped\n",
    "headers = {\"X-API-KEY\": os.getenv(\"ISCRAPER_API_KEY\"), \"content-type\": \"application/json\"}\n",
    "url = \"https://api.iscraper.io/v2/profile-details\"\n",
    "\n",
    "status_code = 404\n",
    "while status_code != 200:\n",
    "    # Create the payload\n",
    "    payload = {\n",
    "        \"profile_id\": \"omar-elmaria\",\n",
    "        \"profile_type\": \"personal\",\n",
    "        \"contact_info\": True,\n",
    "        \"related_profiles\": True,\n",
    "        \"network_info\": True\n",
    "    }\n",
    "\n",
    "    # Send a request to iScraper's API endpoint\n",
    "    response = requests.request(\"POST\", url, json=payload, headers=headers).json()\n",
    "\n",
    "    # Retrieve the status code from the response\n",
    "    status_code = response.status_code\n",
    "\n",
    "    # Check of the response status code is 200\n",
    "    if status_code == 200:\n",
    "        print(\"Response was retrieved successfully. Breaking out of the loop\")\n",
    "        break\n",
    "    else:\n",
    "        print(\"Response was not retrieved successfully. Waiting for 2 seconds and trying again\")\n",
    "        time.sleep(2)"
   ]
  },
  {
   "cell_type": "markdown",
   "metadata": {},
   "source": [
    "### List comprehension example"
   ]
  },
  {
   "cell_type": "code",
   "execution_count": 45,
   "metadata": {},
   "outputs": [
    {
     "name": "stdout",
     "output_type": "stream",
     "text": [
      "['4C', '8C', 'DB', 'DB11']\n",
      "['4C', '8C', 'None', 'DB', 'DB11']\n"
     ]
    }
   ],
   "source": [
    "## List comprehension\n",
    "marke_list = [\n",
    "{\"marke\": \"Alfa Romeo\", \"modell\": \"4C\"},\n",
    "{\"marke\": \"Alfa Romeo\", \"modell\": \"8C\"},\n",
    "{\"marke\": \"ALPINA\", \"modell\": \"Andere\"},\n",
    "{\"marke\": \"Aston Martin\", \"modell\": \"DB\"},\n",
    "{\"marke\": \"Aston Martin\", \"modell\": \"DB11\"}\n",
    "]\n",
    "\n",
    "print([i[\"modell\"] for i in marke_list if i[\"marke\"] != \"ALPINA\"])\n",
    "print([i[\"modell\"] if i[\"marke\"] != \"ALPINA\" else \"None\" for i in marke_list])"
   ]
  },
  {
   "cell_type": "markdown",
   "metadata": {},
   "source": [
    "### Dictionary comprehension example"
   ]
  },
  {
   "cell_type": "code",
   "execution_count": 49,
   "metadata": {},
   "outputs": [
    {
     "data": {
      "text/plain": [
       "{'apple': 2, 'banana': 2, 'cherry': 1}"
      ]
     },
     "execution_count": 49,
     "metadata": {},
     "output_type": "execute_result"
    }
   ],
   "source": [
    "## Dictionary comprehension\n",
    "words = ['apple', 'banana', 'apple', 'cherry', 'banana']\n",
    "{word: words.count(word) for word in words}"
   ]
  },
  {
   "cell_type": "markdown",
   "metadata": {},
   "source": [
    "### If-elif-else example"
   ]
  },
  {
   "cell_type": "code",
   "execution_count": 50,
   "metadata": {},
   "outputs": [
    {
     "name": "stdout",
     "output_type": "stream",
     "text": [
      "For an income of $50000, the tax rate is 20.0% and the tax due is $2000.00\n"
     ]
    }
   ],
   "source": [
    "## if-elif-else\n",
    "income = 50000  # Replace with the actual income amount\n",
    "\n",
    "if income < 10000:\n",
    "    tax_rate = 0.05\n",
    "    tax_due = income * tax_rate\n",
    "elif 10000 <= income < 50000:\n",
    "    tax_rate = 0.1\n",
    "    tax_due = (income - 10000) * tax_rate + 10000 * 0.05\n",
    "else:\n",
    "    tax_rate = 0.2\n",
    "    tax_due = (income - 100000) * tax_rate + (100000 - 50000) * 0.15 + (50000 - 10000) * 0.1 + 10000 * 0.05\n",
    "\n",
    "print(f\"For an income of ${income}, the tax rate is {tax_rate*100}% and the tax due is ${tax_due:.2f}\")\n"
   ]
  },
  {
   "cell_type": "markdown",
   "metadata": {},
   "source": [
    "### Try-except example"
   ]
  },
  {
   "cell_type": "code",
   "execution_count": 57,
   "metadata": {},
   "outputs": [
    {
     "name": "stdout",
     "output_type": "stream",
     "text": [
      "Error occurred: unsupported operand type(s) for /: 'int' and 'str'\n",
      "Error occurred: division by zero\n",
      "Division operation completed.\n"
     ]
    }
   ],
   "source": [
    "## Try-except\n",
    "a = 10\n",
    "b = 0\n",
    "try:\n",
    "    result = a / str(b)\n",
    "except (ZeroDivisionError, TypeError) as err:\n",
    "    print(f\"Error occurred: {err}\")\n",
    "    try:\n",
    "        result = a / b\n",
    "    except Exception as err:\n",
    "        print(f\"Error occurred: {err}\")\n",
    "finally:\n",
    "    print(\"Division operation completed.\")"
   ]
  },
  {
   "cell_type": "markdown",
   "metadata": {},
   "source": [
    "### Logging example"
   ]
  },
  {
   "cell_type": "code",
   "execution_count": 2,
   "metadata": {},
   "outputs": [],
   "source": [
    "## Logging\n",
    "import logging\n",
    "logging.basicConfig(\n",
    "    filename=\"logger.log\",\n",
    "    format=\"%(asctime)s - %(levelname)s - %(message)s\",\n",
    "    datefmt=\"%Y-%m-%d %H:%M:%S\",\n",
    "    level=logging.DEBUG\n",
    ")\n",
    "\n",
    "logging.debug(\"This is a debug message\")\n",
    "logging.info(\"This is an info message\")\n",
    "logging.warning(\"This is a warning message\")\n",
    "logging.error(\"This is an error message\")\n",
    "logging.exception(\"This is an exception message\")"
   ]
  },
  {
   "cell_type": "markdown",
   "metadata": {},
   "source": [
    "### *args and **kwargs example"
   ]
  },
  {
   "cell_type": "code",
   "execution_count": 6,
   "metadata": {},
   "outputs": [
    {
     "data": {
      "text/plain": [
       "15"
      ]
     },
     "execution_count": 6,
     "metadata": {},
     "output_type": "execute_result"
    }
   ],
   "source": [
    "def calculate_sum(*args):\n",
    "    result = sum(args)\n",
    "    return result\n",
    "\n",
    "calculate_sum(1, 2, 3, 4, 5)"
   ]
  },
  {
   "cell_type": "code",
   "execution_count": 8,
   "metadata": {},
   "outputs": [
    {
     "name": "stdout",
     "output_type": "stream",
     "text": [
      "name: Omar\n",
      "age: 27\n",
      "city: Berlin\n"
     ]
    }
   ],
   "source": [
    "def print_person_info(**kwargs):\n",
    "    for key, value in kwargs.items():\n",
    "        print(f\"{key}: {value}\")\n",
    "\n",
    "print_person_info(name=\"Omar\", age=27, city=\"Berlin\")"
   ]
  },
  {
   "cell_type": "markdown",
   "metadata": {},
   "source": [
    "### map, filter, and reduce examples"
   ]
  },
  {
   "cell_type": "code",
   "execution_count": 10,
   "metadata": {},
   "outputs": [
    {
     "name": "stdout",
     "output_type": "stream",
     "text": [
      "squared: [1, 4, 9, 16, 25]\n",
      "even_numbers: [2, 4, 6, 8]\n",
      "product: 120\n"
     ]
    }
   ],
   "source": [
    "## Map\n",
    "numbers = [1, 2, 3, 4, 5]\n",
    "squared = list(map(lambda x: x**2, numbers))\n",
    "print(f\"squared: {squared}\")\n",
    "# Result: [1, 4, 9, 16, 25]\n",
    "\n",
    "## Filter\n",
    "numbers = [1, 2, 3, 4, 5, 6, 7, 8, 9]\n",
    "even_numbers = list(filter(lambda x: x % 2 == 0, numbers))\n",
    "print(f\"even_numbers: {even_numbers}\") \n",
    "# Result: [2, 4, 6, 8]\n",
    "\n",
    "## Reduce\n",
    "from functools import reduce\n",
    "\n",
    "numbers = [2, 3, 4, 5]\n",
    "product = reduce(lambda x, y: x * y, numbers)\n",
    "print(f\"product: {product}\")\n",
    "# Result: 120 (2 * 3 * 4 * 5)\n"
   ]
  },
  {
   "cell_type": "markdown",
   "metadata": {},
   "source": [
    "### lambda function example"
   ]
  },
  {
   "cell_type": "code",
   "execution_count": 17,
   "metadata": {},
   "outputs": [
    {
     "data": {
      "text/html": [
       "<div>\n",
       "<style scoped>\n",
       "    .dataframe tbody tr th:only-of-type {\n",
       "        vertical-align: middle;\n",
       "    }\n",
       "\n",
       "    .dataframe tbody tr th {\n",
       "        vertical-align: top;\n",
       "    }\n",
       "\n",
       "    .dataframe thead th {\n",
       "        text-align: right;\n",
       "    }\n",
       "</style>\n",
       "<table border=\"1\" class=\"dataframe\">\n",
       "  <thead>\n",
       "    <tr style=\"text-align: right;\">\n",
       "      <th></th>\n",
       "      <th>numerical</th>\n",
       "      <th>categorical</th>\n",
       "      <th>map_col</th>\n",
       "      <th>condition_col</th>\n",
       "    </tr>\n",
       "  </thead>\n",
       "  <tbody>\n",
       "    <tr>\n",
       "      <th>0</th>\n",
       "      <td>0.031430</td>\n",
       "      <td>A</td>\n",
       "      <td>category A</td>\n",
       "      <td>2.031430</td>\n",
       "    </tr>\n",
       "    <tr>\n",
       "      <th>1</th>\n",
       "      <td>0.422472</td>\n",
       "      <td>A</td>\n",
       "      <td>category A</td>\n",
       "      <td>2.422472</td>\n",
       "    </tr>\n",
       "    <tr>\n",
       "      <th>2</th>\n",
       "      <td>0.266275</td>\n",
       "      <td>B</td>\n",
       "      <td>category B</td>\n",
       "      <td>3.266275</td>\n",
       "    </tr>\n",
       "    <tr>\n",
       "      <th>3</th>\n",
       "      <td>0.780464</td>\n",
       "      <td>B</td>\n",
       "      <td>category B</td>\n",
       "      <td>3.780464</td>\n",
       "    </tr>\n",
       "    <tr>\n",
       "      <th>4</th>\n",
       "      <td>0.543084</td>\n",
       "      <td>C</td>\n",
       "      <td>category C</td>\n",
       "      <td>3.543084</td>\n",
       "    </tr>\n",
       "  </tbody>\n",
       "</table>\n",
       "</div>"
      ],
      "text/plain": [
       "   numerical categorical     map_col  condition_col\n",
       "0   0.031430           A  category A       2.031430\n",
       "1   0.422472           A  category A       2.422472\n",
       "2   0.266275           B  category B       3.266275\n",
       "3   0.780464           B  category B       3.780464\n",
       "4   0.543084           C  category C       3.543084"
      ]
     },
     "execution_count": 17,
     "metadata": {},
     "output_type": "execute_result"
    }
   ],
   "source": [
    "# Create a random dataframe with 5 rows and 2 columns\n",
    "df = pd.DataFrame({\n",
    "    'numerical': np.random.rand(5),\n",
    "    'categorical': pd.Categorical(['A', 'A', 'B', 'B', 'C'])\n",
    "})\n",
    "\n",
    "df[\"map_col\"] = df[\"categorical\"].map({\"A\": \"category A\", \"B\": \"category B\", \"C\": \"category C\"})\n",
    "df[\"condition_col\"] = df.apply(lambda x: x['numerical'] + 2 if x['categorical'] == \"A\" else x['numerical'] + 3, axis=1)\n",
    "df"
   ]
  },
  {
   "cell_type": "markdown",
   "metadata": {},
   "source": [
    "### BigQuery google.cloud example"
   ]
  },
  {
   "cell_type": "code",
   "execution_count": 18,
   "metadata": {},
   "outputs": [
    {
     "name": "stderr",
     "output_type": "stream",
     "text": [
      "g:\\My Drive\\APAC\\venv_dh\\lib\\site-packages\\google\\auth\\_default.py:76: UserWarning: Your application has authenticated using end user credentials from Google Cloud SDK without a quota project. You might receive a \"quota exceeded\" or \"API not enabled\" error. See the following page for troubleshooting: https://cloud.google.com/docs/authentication/adc-troubleshooting/user-creds. \n",
      "  warnings.warn(_CLOUD_SDK_CREDENTIALS_WARNING)\n",
      "g:\\My Drive\\APAC\\venv_dh\\lib\\site-packages\\google\\cloud\\bigquery\\table.py:2155: UserWarning: A progress bar was requested, but there was an error loading the tqdm library. Please install tqdm to use the progress bar functionality.\n",
      "  record_batch = self.to_arrow(\n"
     ]
    }
   ],
   "source": [
    "## BigQuery google.cloud\n",
    "from google.cloud import bigquery\n",
    "from google.cloud import bigquery_storage\n",
    "\n",
    "# Define the query to pull historical data from BigQuery\n",
    "HIST_DATA_QUERY = \"\"\"\n",
    "  SELECT\n",
    "    -- Identifiers and supplementary fields     \n",
    "    -- Date and time\n",
    "    a.created_date AS created_date_utc,\n",
    "    a.order_placed_at AS order_placed_at_utc,\n",
    "    a.created_date_local,\n",
    "    a.order_placed_at_local,\n",
    "\n",
    "    -- Location of order\n",
    "    ent.segment AS region,\n",
    "    a.entity_id,\n",
    "\n",
    "    -- Order/customer identifiers\n",
    "    a.test_variant,\n",
    "    a.platform_order_code,\n",
    "    a.scheme_id,\n",
    "\n",
    "    -- Logistics KPIs\n",
    "    a.dps_travel_time\n",
    "FROM `fulfillment-dwh-production.{dataset}.dps_sessions_mapped_to_orders` a\n",
    "INNER JOIN `fulfillment-dwh-production.curated_data_shared_coredata.global_entities` ent ON a.entity_id = ent.global_entity_id -- Get the region associated with every entity_id\n",
    "WHERE a.created_date >= DATE_SUB(CURRENT_DATE(), INTERVAL {default_lookback_weeks} WEEK) -- Pull data from n weeks ago\n",
    "LIMIT 100\n",
    "\"\"\"\n",
    "\n",
    "# Create a BigQuery client and a BigQuery storage client\n",
    "bq_client = bigquery.Client(project=\"logistics-customer-staging\")\n",
    "bq_storage_client = bigquery_storage.BigQueryReadClient()\n",
    "\n",
    "# Create a BigQuery query job\n",
    "df = bq_client.query(\n",
    "    HIST_DATA_QUERY.format(\n",
    "        dataset=\"cl\",\n",
    "        default_lookback_weeks=1\n",
    "    )\n",
    ").result().to_dataframe(bqstorage_client=bq_storage_client, progress_bar_type=\"tqdm\")"
   ]
  },
  {
   "cell_type": "markdown",
   "metadata": {},
   "source": [
    "### google.cloud with private account"
   ]
  },
  {
   "cell_type": "code",
   "execution_count": null,
   "metadata": {},
   "outputs": [],
   "source": [
    "from google.oauth2 import service_account\n",
    "from google.cloud import bigquery\n",
    "import os\n",
    "\n",
    "key_path_home_dir = os.path.expanduser(\"~\") + \"/bq_credentials.json\"\n",
    "credentials = service_account.Credentials.from_service_account_file(\n",
    "    key_path_home_dir, scopes=[\"https://www.googleapis.com/auth/cloud-platform\"],\n",
    ")\n",
    "\n",
    "# Now, instantiate the client and upload the table to BigQuery\n",
    "client = bigquery.Client(project=\"web-scraping-371310\", credentials=credentials)"
   ]
  },
  {
   "cell_type": "code",
   "execution_count": 2,
   "metadata": {},
   "outputs": [
    {
     "name": "stdout",
     "output_type": "stream",
     "text": [
      "['quick', 'brown', 'jumps']\n",
      "cat quick brown cat jumps over cat lazy cat\n",
      "['The', 'quick', 'brown', 'fox', 'jumps', 'over', 'the', 'lazy', 'dog']\n"
     ]
    }
   ],
   "source": [
    "import re\n",
    "\n",
    "# Example 1: Find all occurrences of a pattern in a string\n",
    "string = \"The quick brown fox jumps over the lazy dog\"\n",
    "pattern = r\"\\b\\w{5}\\b\"  # Find all 5-letter words\n",
    "matches = re.findall(pattern, string)\n",
    "print(matches)  # Output: ['quick', 'brown', 'jumps']\n",
    "\n",
    "# Example 2: Replace all occurrences of a pattern in a string\n",
    "string = \"The quick brown fox jumps over the lazy dog\"\n",
    "pattern = r\"\\b\\w{3}\\b\"  # Replace all 3-letter words\n",
    "replacement = \"cat\"\n",
    "new_string = re.sub(pattern, replacement, string)\n",
    "print(new_string)  # Output: \"cat quick brown cat jumps over cat lazy cat\"\n",
    "\n",
    "# Example 3: Split a string using a pattern\n",
    "string = \"The quick brown fox jumps over the lazy dog\"\n",
    "pattern = r\"\\s+\"  # Split the string on whitespace\n",
    "tokens = re.split(pattern, string)\n",
    "print(tokens)  # Output: ['The', 'quick', 'brown', 'fox', 'jumps', 'over', 'the', 'lazy', 'dog']\n"
   ]
  }
 ],
 "metadata": {
  "kernelspec": {
   "display_name": "venv_dh",
   "language": "python",
   "name": "python3"
  },
  "language_info": {
   "codemirror_mode": {
    "name": "ipython",
    "version": 3
   },
   "file_extension": ".py",
   "mimetype": "text/x-python",
   "name": "python",
   "nbconvert_exporter": "python",
   "pygments_lexer": "ipython3",
   "version": "3.10.7"
  }
 },
 "nbformat": 4,
 "nbformat_minor": 2
}
